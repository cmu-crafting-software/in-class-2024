{
 "cells": [
  {
   "cell_type": "code",
   "execution_count": 6,
   "metadata": {},
   "outputs": [],
   "source": [
    "import altair as alt\n",
    "from collections import Counter\n",
    "import pandas as pd"
   ]
  },
  {
   "cell_type": "code",
   "execution_count": 5,
   "metadata": {},
   "outputs": [
    {
     "data": {
      "text/html": [
       "\n",
       "<style>\n",
       "  #altair-viz-a3ab4e4744464078ab87534d59cd10ba.vega-embed {\n",
       "    width: 100%;\n",
       "    display: flex;\n",
       "  }\n",
       "\n",
       "  #altair-viz-a3ab4e4744464078ab87534d59cd10ba.vega-embed details,\n",
       "  #altair-viz-a3ab4e4744464078ab87534d59cd10ba.vega-embed details summary {\n",
       "    position: relative;\n",
       "  }\n",
       "</style>\n",
       "<div id=\"altair-viz-a3ab4e4744464078ab87534d59cd10ba\"></div>\n",
       "<script type=\"text/javascript\">\n",
       "  var VEGA_DEBUG = (typeof VEGA_DEBUG == \"undefined\") ? {} : VEGA_DEBUG;\n",
       "  (function(spec, embedOpt){\n",
       "    let outputDiv = document.currentScript.previousElementSibling;\n",
       "    if (outputDiv.id !== \"altair-viz-a3ab4e4744464078ab87534d59cd10ba\") {\n",
       "      outputDiv = document.getElementById(\"altair-viz-a3ab4e4744464078ab87534d59cd10ba\");\n",
       "    }\n",
       "    const paths = {\n",
       "      \"vega\": \"https://cdn.jsdelivr.net/npm/vega@5?noext\",\n",
       "      \"vega-lib\": \"https://cdn.jsdelivr.net/npm/vega-lib?noext\",\n",
       "      \"vega-lite\": \"https://cdn.jsdelivr.net/npm/vega-lite@5.17.0?noext\",\n",
       "      \"vega-embed\": \"https://cdn.jsdelivr.net/npm/vega-embed@6?noext\",\n",
       "    };\n",
       "\n",
       "    function maybeLoadScript(lib, version) {\n",
       "      var key = `${lib.replace(\"-\", \"\")}_version`;\n",
       "      return (VEGA_DEBUG[key] == version) ?\n",
       "        Promise.resolve(paths[lib]) :\n",
       "        new Promise(function(resolve, reject) {\n",
       "          var s = document.createElement('script');\n",
       "          document.getElementsByTagName(\"head\")[0].appendChild(s);\n",
       "          s.async = true;\n",
       "          s.onload = () => {\n",
       "            VEGA_DEBUG[key] = version;\n",
       "            return resolve(paths[lib]);\n",
       "          };\n",
       "          s.onerror = () => reject(`Error loading script: ${paths[lib]}`);\n",
       "          s.src = paths[lib];\n",
       "        });\n",
       "    }\n",
       "\n",
       "    function showError(err) {\n",
       "      outputDiv.innerHTML = `<div class=\"error\" style=\"color:red;\">${err}</div>`;\n",
       "      throw err;\n",
       "    }\n",
       "\n",
       "    function displayChart(vegaEmbed) {\n",
       "      vegaEmbed(outputDiv, spec, embedOpt)\n",
       "        .catch(err => showError(`Javascript Error: ${err.message}<br>This usually means there's a typo in your chart specification. See the javascript console for the full traceback.`));\n",
       "    }\n",
       "\n",
       "    if(typeof define === \"function\" && define.amd) {\n",
       "      requirejs.config({paths});\n",
       "      require([\"vega-embed\"], displayChart, err => showError(`Error loading script: ${err.message}`));\n",
       "    } else {\n",
       "      maybeLoadScript(\"vega\", \"5\")\n",
       "        .then(() => maybeLoadScript(\"vega-lite\", \"5.17.0\"))\n",
       "        .then(() => maybeLoadScript(\"vega-embed\", \"6\"))\n",
       "        .catch(showError)\n",
       "        .then(() => displayChart(vegaEmbed));\n",
       "    }\n",
       "  })({\"config\": {\"view\": {\"continuousWidth\": 300, \"continuousHeight\": 300}}, \"data\": {\"name\": \"data-530f14758cfd1a36ebf7bcceb6ee84fd\"}, \"mark\": {\"type\": \"bar\"}, \"encoding\": {\"tooltip\": [{\"field\": \"Letter\", \"type\": \"nominal\"}, {\"field\": \"Frequency\", \"type\": \"quantitative\"}], \"x\": {\"field\": \"Letter\", \"type\": \"nominal\"}, \"y\": {\"field\": \"Frequency\", \"type\": \"quantitative\"}}, \"title\": \"Frequency of Letters in Word List\", \"$schema\": \"https://vega.github.io/schema/vega-lite/v5.17.0.json\", \"datasets\": {\"data-530f14758cfd1a36ebf7bcceb6ee84fd\": [{\"Letter\": \"a\", \"Frequency\": 5990}, {\"Letter\": \"h\", \"Frequency\": 1760}, {\"Letter\": \"e\", \"Frequency\": 6662}, {\"Letter\": \"d\", \"Frequency\": 2453}, {\"Letter\": \"l\", \"Frequency\": 3371}, {\"Letter\": \"i\", \"Frequency\": 3759}, {\"Letter\": \"r\", \"Frequency\": 4158}, {\"Letter\": \"g\", \"Frequency\": 1644}, {\"Letter\": \"t\", \"Frequency\": 3295}, {\"Letter\": \"b\", \"Frequency\": 1627}, {\"Letter\": \"c\", \"Frequency\": 2028}, {\"Letter\": \"k\", \"Frequency\": 1505}, {\"Letter\": \"s\", \"Frequency\": 6665}, {\"Letter\": \"f\", \"Frequency\": 1115}, {\"Letter\": \"m\", \"Frequency\": 1976}, {\"Letter\": \"p\", \"Frequency\": 2019}, {\"Letter\": \"n\", \"Frequency\": 2952}, {\"Letter\": \"y\", \"Frequency\": 2074}, {\"Letter\": \"o\", \"Frequency\": 4438}, {\"Letter\": \"w\", \"Frequency\": 1039}, {\"Letter\": \"u\", \"Frequency\": 2511}, {\"Letter\": \"v\", \"Frequency\": 694}, {\"Letter\": \"z\", \"Frequency\": 434}, {\"Letter\": \"x\", \"Frequency\": 288}, {\"Letter\": \"j\", \"Frequency\": 291}, {\"Letter\": \"q\", \"Frequency\": 112}]}}, {\"mode\": \"vega-lite\"});\n",
       "</script>"
      ],
      "text/plain": [
       "alt.Chart(...)"
      ]
     },
     "metadata": {},
     "output_type": "display_data"
    }
   ],
   "source": [
    "word_freq = pd.read_csv('data/word-frequencies.csv')\n",
    "letter_counts = Counter(''.join(word_freq['word']))\n",
    "\n",
    "# Convert the Counter object to a list of (letter, count) tuples\n",
    "data = list(letter_counts.items())\n",
    "\n",
    "df = pd.DataFrame(data, columns=['Letter', 'Frequency'])\n",
    "\n",
    "# Create a bar chart with Altair\n",
    "chart = alt.Chart(df).mark_bar().encode(\n",
    "    x='Letter:N',\n",
    "    y='Frequency:Q',\n",
    "    tooltip=['Letter', 'Frequency']\n",
    ").properties(title='Frequency of Letters in Word List')\n",
    "\n",
    "# Display the chart\n",
    "chart.show()"
   ]
  }
 ],
 "metadata": {
  "kernelspec": {
   "display_name": "Python 3",
   "language": "python",
   "name": "python3"
  },
  "language_info": {
   "codemirror_mode": {
    "name": "ipython",
    "version": 3
   },
   "file_extension": ".py",
   "mimetype": "text/x-python",
   "name": "python",
   "nbconvert_exporter": "python",
   "pygments_lexer": "ipython3",
   "version": "3.10.13"
  }
 },
 "nbformat": 4,
 "nbformat_minor": 2
}
