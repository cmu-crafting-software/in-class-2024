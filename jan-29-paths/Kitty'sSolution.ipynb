{
 "cells": [
  {
   "cell_type": "code",
   "execution_count": 10,
   "metadata": {},
   "outputs": [],
   "source": [
    "import json\n",
    "from datetime import datetime\n",
    "import os"
   ]
  },
  {
   "cell_type": "code",
   "execution_count": null,
   "metadata": {},
   "outputs": [],
   "source": [
    "def getState(s):\n",
    "  return s['BirthState']\n",
    "\n",
    "file = open(\"presidents.json\")\n",
    "presidents = json.load(file)\n",
    "\n",
    "presidents.sort(key=getState)\n",
    "presidents"
   ]
  },
  {
   "cell_type": "code",
   "execution_count": null,
   "metadata": {},
   "outputs": [],
   "source": [
    "newpath = \"/Users/katherinepierre-louis/Downloads/CraftingSoftware/in-class-2024/jan-29-paths/musicians/rock\"\n",
    "os.chdir(newpath)\n",
    "files = os.listdir(newpath)\n",
    "files"
   ]
  },
  {
   "cell_type": "code",
   "execution_count": null,
   "metadata": {},
   "outputs": [],
   "source": [
    "evennewpath = \"/Users/katherinepierre-louis/Downloads/CraftingSoftware/in-class-2024/jan-29-paths\"\n"
   ]
  }
 ],
 "metadata": {
  "kernelspec": {
   "display_name": "Python 3",
   "language": "python",
   "name": "python3"
  },
  "language_info": {
   "codemirror_mode": {
    "name": "ipython",
    "version": 3
   },
   "file_extension": ".py",
   "mimetype": "text/x-python",
   "name": "python",
   "nbconvert_exporter": "python",
   "pygments_lexer": "ipython3",
   "version": "3.12.0"
  }
 },
 "nbformat": 4,
 "nbformat_minor": 2
}
