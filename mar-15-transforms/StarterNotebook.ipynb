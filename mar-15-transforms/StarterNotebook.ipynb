{
 "cells": [
  {
   "cell_type": "code",
   "execution_count": 1,
   "id": "bc0631c4-c846-4f4c-9276-feeb3c95bb38",
   "metadata": {},
   "outputs": [],
   "source": [
    "import pandas as pd\n",
    "import altair as alt"
   ]
  },
  {
   "cell_type": "code",
   "execution_count": 2,
   "id": "898b5a33-0312-441c-9f14-4140268bd98f",
   "metadata": {},
   "outputs": [],
   "source": [
    "movies = pd.read_json('movies.json')"
   ]
  },
  {
   "cell_type": "code",
   "execution_count": 3,
   "id": "dc95e589-0d90-438d-8316-13da156d98cc",
   "metadata": {},
   "outputs": [
    {
     "data": {
      "text/plain": [
       "(3201, 16)"
      ]
     },
     "execution_count": 3,
     "metadata": {},
     "output_type": "execute_result"
    }
   ],
   "source": [
    "movies.shape"
   ]
  },
  {
   "cell_type": "code",
   "execution_count": null,
   "id": "ad09c1d2-fd4a-4397-ab38-755cae848471",
   "metadata": {},
   "outputs": [],
   "source": []
  }
 ],
 "metadata": {
  "kernelspec": {
   "display_name": "Python 3 (ipykernel)",
   "language": "python",
   "name": "python3"
  },
  "language_info": {
   "codemirror_mode": {
    "name": "ipython",
    "version": 3
   },
   "file_extension": ".py",
   "mimetype": "text/x-python",
   "name": "python",
   "nbconvert_exporter": "python",
   "pygments_lexer": "ipython3",
   "version": "3.10.1"
  }
 },
 "nbformat": 4,
 "nbformat_minor": 5
}
