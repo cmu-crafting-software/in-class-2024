{
 "cells": [
  {
   "cell_type": "code",
   "execution_count": 2,
   "metadata": {},
   "outputs": [],
   "source": [
    "import pandas as pd\n",
    "import altair as alt\n",
    "movies_url = 'https://cdn.jsdelivr.net/npm/vega-datasets@1/data/movies.json'\n",
    "movies = pd.read_json(movies_url)"
   ]
  },
  {
   "cell_type": "code",
   "execution_count": 10,
   "metadata": {},
   "outputs": [
    {
     "data": {
      "text/html": [
       "\n",
       "<style>\n",
       "  #altair-viz-7bd48751c6a74370a7964f432fcf78a6.vega-embed {\n",
       "    width: 100%;\n",
       "    display: flex;\n",
       "  }\n",
       "\n",
       "  #altair-viz-7bd48751c6a74370a7964f432fcf78a6.vega-embed details,\n",
       "  #altair-viz-7bd48751c6a74370a7964f432fcf78a6.vega-embed details summary {\n",
       "    position: relative;\n",
       "  }\n",
       "</style>\n",
       "<div id=\"altair-viz-7bd48751c6a74370a7964f432fcf78a6\"></div>\n",
       "<script type=\"text/javascript\">\n",
       "  var VEGA_DEBUG = (typeof VEGA_DEBUG == \"undefined\") ? {} : VEGA_DEBUG;\n",
       "  (function(spec, embedOpt){\n",
       "    let outputDiv = document.currentScript.previousElementSibling;\n",
       "    if (outputDiv.id !== \"altair-viz-7bd48751c6a74370a7964f432fcf78a6\") {\n",
       "      outputDiv = document.getElementById(\"altair-viz-7bd48751c6a74370a7964f432fcf78a6\");\n",
       "    }\n",
       "    const paths = {\n",
       "      \"vega\": \"https://cdn.jsdelivr.net/npm/vega@5?noext\",\n",
       "      \"vega-lib\": \"https://cdn.jsdelivr.net/npm/vega-lib?noext\",\n",
       "      \"vega-lite\": \"https://cdn.jsdelivr.net/npm/vega-lite@5.16.3?noext\",\n",
       "      \"vega-embed\": \"https://cdn.jsdelivr.net/npm/vega-embed@6?noext\",\n",
       "    };\n",
       "\n",
       "    function maybeLoadScript(lib, version) {\n",
       "      var key = `${lib.replace(\"-\", \"\")}_version`;\n",
       "      return (VEGA_DEBUG[key] == version) ?\n",
       "        Promise.resolve(paths[lib]) :\n",
       "        new Promise(function(resolve, reject) {\n",
       "          var s = document.createElement('script');\n",
       "          document.getElementsByTagName(\"head\")[0].appendChild(s);\n",
       "          s.async = true;\n",
       "          s.onload = () => {\n",
       "            VEGA_DEBUG[key] = version;\n",
       "            return resolve(paths[lib]);\n",
       "          };\n",
       "          s.onerror = () => reject(`Error loading script: ${paths[lib]}`);\n",
       "          s.src = paths[lib];\n",
       "        });\n",
       "    }\n",
       "\n",
       "    function showError(err) {\n",
       "      outputDiv.innerHTML = `<div class=\"error\" style=\"color:red;\">${err}</div>`;\n",
       "      throw err;\n",
       "    }\n",
       "\n",
       "    function displayChart(vegaEmbed) {\n",
       "      vegaEmbed(outputDiv, spec, embedOpt)\n",
       "        .catch(err => showError(`Javascript Error: ${err.message}<br>This usually means there's a typo in your chart specification. See the javascript console for the full traceback.`));\n",
       "    }\n",
       "\n",
       "    if(typeof define === \"function\" && define.amd) {\n",
       "      requirejs.config({paths});\n",
       "      require([\"vega-embed\"], displayChart, err => showError(`Error loading script: ${err.message}`));\n",
       "    } else {\n",
       "      maybeLoadScript(\"vega\", \"5\")\n",
       "        .then(() => maybeLoadScript(\"vega-lite\", \"5.16.3\"))\n",
       "        .then(() => maybeLoadScript(\"vega-embed\", \"6\"))\n",
       "        .catch(showError)\n",
       "        .then(() => displayChart(vegaEmbed));\n",
       "    }\n",
       "  })({\"config\": {\"view\": {\"continuousWidth\": 300, \"continuousHeight\": 300}}, \"data\": {\"url\": \"https://cdn.jsdelivr.net/npm/vega-datasets@1/data/movies.json\"}, \"mark\": {\"type\": \"circle\"}, \"encoding\": {\"size\": {\"aggregate\": \"count\", \"type\": \"quantitative\"}, \"x\": {\"bin\": {\"maxbins\": 20}, \"field\": \"Rotten_Tomatoes_Rating\", \"type\": \"quantitative\"}, \"y\": {\"bin\": {\"maxbins\": 20}, \"field\": \"IMDB_Rating\", \"type\": \"quantitative\"}}, \"$schema\": \"https://vega.github.io/schema/vega-lite/v5.16.3.json\"}, {\"mode\": \"vega-lite\"});\n",
       "</script>"
      ],
      "text/plain": [
       "alt.Chart(...)"
      ]
     },
     "execution_count": 10,
     "metadata": {},
     "output_type": "execute_result"
    }
   ],
   "source": [
    "alt.Chart(movies_url).mark_circle().encode(\n",
    "    alt.X('Rotten_Tomatoes_Rating:Q', bin=alt.BinParams(maxbins=20)),\n",
    "    alt.Y('IMDB_Rating:Q', bin=alt.BinParams(maxbins=20)),\n",
    "    alt.Size('count()')\n",
    ")"
   ]
  },
  {
   "cell_type": "code",
   "execution_count": 3,
   "metadata": {},
   "outputs": [
    {
     "data": {
      "text/html": [
       "\n",
       "<style>\n",
       "  #altair-viz-324b2d3b7b7f4da58fc99bde4bfd82b9.vega-embed {\n",
       "    width: 100%;\n",
       "    display: flex;\n",
       "  }\n",
       "\n",
       "  #altair-viz-324b2d3b7b7f4da58fc99bde4bfd82b9.vega-embed details,\n",
       "  #altair-viz-324b2d3b7b7f4da58fc99bde4bfd82b9.vega-embed details summary {\n",
       "    position: relative;\n",
       "  }\n",
       "</style>\n",
       "<div id=\"altair-viz-324b2d3b7b7f4da58fc99bde4bfd82b9\"></div>\n",
       "<script type=\"text/javascript\">\n",
       "  var VEGA_DEBUG = (typeof VEGA_DEBUG == \"undefined\") ? {} : VEGA_DEBUG;\n",
       "  (function(spec, embedOpt){\n",
       "    let outputDiv = document.currentScript.previousElementSibling;\n",
       "    if (outputDiv.id !== \"altair-viz-324b2d3b7b7f4da58fc99bde4bfd82b9\") {\n",
       "      outputDiv = document.getElementById(\"altair-viz-324b2d3b7b7f4da58fc99bde4bfd82b9\");\n",
       "    }\n",
       "    const paths = {\n",
       "      \"vega\": \"https://cdn.jsdelivr.net/npm/vega@5?noext\",\n",
       "      \"vega-lib\": \"https://cdn.jsdelivr.net/npm/vega-lib?noext\",\n",
       "      \"vega-lite\": \"https://cdn.jsdelivr.net/npm/vega-lite@5.16.3?noext\",\n",
       "      \"vega-embed\": \"https://cdn.jsdelivr.net/npm/vega-embed@6?noext\",\n",
       "    };\n",
       "\n",
       "    function maybeLoadScript(lib, version) {\n",
       "      var key = `${lib.replace(\"-\", \"\")}_version`;\n",
       "      return (VEGA_DEBUG[key] == version) ?\n",
       "        Promise.resolve(paths[lib]) :\n",
       "        new Promise(function(resolve, reject) {\n",
       "          var s = document.createElement('script');\n",
       "          document.getElementsByTagName(\"head\")[0].appendChild(s);\n",
       "          s.async = true;\n",
       "          s.onload = () => {\n",
       "            VEGA_DEBUG[key] = version;\n",
       "            return resolve(paths[lib]);\n",
       "          };\n",
       "          s.onerror = () => reject(`Error loading script: ${paths[lib]}`);\n",
       "          s.src = paths[lib];\n",
       "        });\n",
       "    }\n",
       "\n",
       "    function showError(err) {\n",
       "      outputDiv.innerHTML = `<div class=\"error\" style=\"color:red;\">${err}</div>`;\n",
       "      throw err;\n",
       "    }\n",
       "\n",
       "    function displayChart(vegaEmbed) {\n",
       "      vegaEmbed(outputDiv, spec, embedOpt)\n",
       "        .catch(err => showError(`Javascript Error: ${err.message}<br>This usually means there's a typo in your chart specification. See the javascript console for the full traceback.`));\n",
       "    }\n",
       "\n",
       "    if(typeof define === \"function\" && define.amd) {\n",
       "      requirejs.config({paths});\n",
       "      require([\"vega-embed\"], displayChart, err => showError(`Error loading script: ${err.message}`));\n",
       "    } else {\n",
       "      maybeLoadScript(\"vega\", \"5\")\n",
       "        .then(() => maybeLoadScript(\"vega-lite\", \"5.16.3\"))\n",
       "        .then(() => maybeLoadScript(\"vega-embed\", \"6\"))\n",
       "        .catch(showError)\n",
       "        .then(() => displayChart(vegaEmbed));\n",
       "    }\n",
       "  })({\"config\": {\"view\": {\"continuousWidth\": 300, \"continuousHeight\": 300}}, \"data\": {\"url\": \"https://cdn.jsdelivr.net/npm/vega-datasets@1/data/movies.json\"}, \"mark\": {\"type\": \"circle\"}, \"encoding\": {\"color\": {\"aggregate\": \"count\", \"type\": \"quantitative\"}, \"x\": {\"bin\": {\"maxbins\": 20}, \"field\": \"Rotten_Tomatoes_Rating\", \"type\": \"quantitative\"}, \"y\": {\"bin\": {\"maxbins\": 20}, \"field\": \"IMDB_Rating\", \"type\": \"quantitative\"}}, \"$schema\": \"https://vega.github.io/schema/vega-lite/v5.16.3.json\"}, {\"mode\": \"vega-lite\"});\n",
       "</script>"
      ],
      "text/plain": [
       "alt.Chart(...)"
      ]
     },
     "execution_count": 3,
     "metadata": {},
     "output_type": "execute_result"
    }
   ],
   "source": [
    "alt.Chart(movies_url).mark_circle().encode(\n",
    "    alt.X('Rotten_Tomatoes_Rating:Q', bin=alt.BinParams(maxbins=20)),\n",
    "    alt.Y('IMDB_Rating:Q', bin=alt.BinParams(maxbins=20)),\n",
    "    alt.Color('count()')\n",
    ")"
   ]
  },
  {
   "cell_type": "code",
   "execution_count": 1,
   "metadata": {},
   "outputs": [
    {
     "ename": "NameError",
     "evalue": "name 'alt' is not defined",
     "output_type": "error",
     "traceback": [
      "\u001b[0;31m---------------------------------------------------------------------------\u001b[0m",
      "\u001b[0;31mNameError\u001b[0m                                 Traceback (most recent call last)",
      "Cell \u001b[0;32mIn[1], line 2\u001b[0m\n\u001b[1;32m      1\u001b[0m \u001b[38;5;66;03m# https://vega.github.io/vega/docs/schemes/\u001b[39;00m\n\u001b[0;32m----> 2\u001b[0m \u001b[43malt\u001b[49m\u001b[38;5;241m.\u001b[39mChart(movies_url)\u001b[38;5;241m.\u001b[39mmark_circle()\u001b[38;5;241m.\u001b[39mencode(\n\u001b[1;32m      3\u001b[0m     alt\u001b[38;5;241m.\u001b[39mX(\u001b[38;5;124m'\u001b[39m\u001b[38;5;124mRotten_Tomatoes_Rating:Q\u001b[39m\u001b[38;5;124m'\u001b[39m, \u001b[38;5;28mbin\u001b[39m\u001b[38;5;241m=\u001b[39malt\u001b[38;5;241m.\u001b[39mBinParams(maxbins\u001b[38;5;241m=\u001b[39m\u001b[38;5;241m20\u001b[39m)),\n\u001b[1;32m      4\u001b[0m     alt\u001b[38;5;241m.\u001b[39mY(\u001b[38;5;124m'\u001b[39m\u001b[38;5;124mIMDB_Rating:Q\u001b[39m\u001b[38;5;124m'\u001b[39m, \u001b[38;5;28mbin\u001b[39m\u001b[38;5;241m=\u001b[39malt\u001b[38;5;241m.\u001b[39mBinParams(maxbins\u001b[38;5;241m=\u001b[39m\u001b[38;5;241m20\u001b[39m)),\n\u001b[1;32m      5\u001b[0m     alt\u001b[38;5;241m.\u001b[39mColor(\u001b[38;5;124m'\u001b[39m\u001b[38;5;124mcount()\u001b[39m\u001b[38;5;124m'\u001b[39m, scale\u001b[38;5;241m=\u001b[39malt\u001b[38;5;241m.\u001b[39mScale(scheme\u001b[38;5;241m=\u001b[39m\u001b[38;5;124m'\u001b[39m\u001b[38;5;124mpurplered\u001b[39m\u001b[38;5;124m'\u001b[39m))\n\u001b[1;32m      6\u001b[0m )\n",
      "\u001b[0;31mNameError\u001b[0m: name 'alt' is not defined"
     ]
    }
   ],
   "source": [
    "# https://vega.github.io/vega/docs/schemes/\n",
    "alt.Chart(movies_url).mark_circle().encode(\n",
    "    alt.X('Rotten_Tomatoes_Rating:Q', bin=alt.BinParams(maxbins=20)),\n",
    "    alt.Y('IMDB_Rating:Q', bin=alt.BinParams(maxbins=20)),\n",
    "    alt.Color('count()', scale=alt.Scale(scheme='purplered'))\n",
    ")"
   ]
  }
 ],
 "metadata": {
  "kernelspec": {
   "display_name": "Python 3",
   "language": "python",
   "name": "python3"
  },
  "language_info": {
   "codemirror_mode": {
    "name": "ipython",
    "version": 3
   },
   "file_extension": ".py",
   "mimetype": "text/x-python",
   "name": "python",
   "nbconvert_exporter": "python",
   "pygments_lexer": "ipython3",
   "version": "3.10.13"
  }
 },
 "nbformat": 4,
 "nbformat_minor": 2
}
