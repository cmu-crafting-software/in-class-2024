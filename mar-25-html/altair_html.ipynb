{
 "cells": [
  {
   "cell_type": "code",
   "execution_count": 2,
   "metadata": {},
   "outputs": [],
   "source": [
    "import altair as alt\n",
    "import pandas as pd\n",
    "import requests \n"
   ]
  },
  {
   "cell_type": "code",
   "execution_count": 11,
   "metadata": {},
   "outputs": [
    {
     "name": "stdout",
     "output_type": "stream",
     "text": [
      "                    NAME       POP state\n",
      "0            Mississippi   2976149    28\n",
      "1               Missouri   6137428    29\n",
      "2                Montana   1068778    30\n",
      "3               Nebraska   1934408    31\n",
      "4                 Nevada   3080156    32\n",
      "5          New Hampshire   1359711    33\n",
      "6             New Jersey   8882190    34\n",
      "7             New Mexico   2096829    35\n",
      "8               New York  19453561    36\n",
      "9         North Carolina  10488084    37\n",
      "10          North Dakota    762062    38\n",
      "11                  Ohio  11689100    39\n",
      "12              Oklahoma   3956971    40\n",
      "13                Oregon   4217737    41\n",
      "14          Pennsylvania  12801989    42\n",
      "15          Rhode Island   1059361    44\n",
      "16        South Carolina   5148714    45\n",
      "17          South Dakota    884659    46\n",
      "18             Tennessee   6829174    47\n",
      "19                 Texas  28995881    48\n",
      "20               Vermont    623989    50\n",
      "21                  Utah   3205958    49\n",
      "22              Virginia   8535519    51\n",
      "23            Washington   7614893    53\n",
      "24         West Virginia   1792147    54\n",
      "25             Wisconsin   5822434    55\n",
      "26               Wyoming    578759    56\n",
      "27           Puerto Rico   3193694    72\n",
      "28               Alabama   4903185    01\n",
      "29                Alaska    731545    02\n",
      "30               Arizona   7278717    04\n",
      "31              Arkansas   3017804    05\n",
      "32            California  39512223    06\n",
      "33              Colorado   5758736    08\n",
      "34              Delaware    973764    10\n",
      "35  District of Columbia    705749    11\n",
      "36           Connecticut   3565287    09\n",
      "37               Florida  21477737    12\n",
      "38               Georgia  10617423    13\n",
      "39                 Idaho   1787065    16\n",
      "40                Hawaii   1415872    15\n",
      "41              Illinois  12671821    17\n",
      "42               Indiana   6732219    18\n",
      "43                  Iowa   3155070    19\n",
      "44                Kansas   2913314    20\n",
      "45              Kentucky   4467673    21\n",
      "46             Louisiana   4648794    22\n",
      "47                 Maine   1344212    23\n",
      "48              Maryland   6045680    24\n",
      "49         Massachusetts   6892503    25\n",
      "50              Michigan   9986857    26\n",
      "51             Minnesota   5639632    27\n"
     ]
    }
   ],
   "source": [
    "r = requests.get('https://api.census.gov/data/2019/pep/charagegroups?get=NAME,POP&for=state:*')\n",
    "census_data = pd.DataFrame(r.json()[1:], columns=r.json()[0])\n",
    "\n",
    "print(census_data)"
   ]
  },
  {
   "cell_type": "code",
   "execution_count": 81,
   "metadata": {},
   "outputs": [
    {
     "data": {
      "text/html": [
       "\n",
       "<style>\n",
       "  #altair-viz-b4ac5bc7994d48ad816480af53e10fa6.vega-embed {\n",
       "    width: 100%;\n",
       "    display: flex;\n",
       "  }\n",
       "\n",
       "  #altair-viz-b4ac5bc7994d48ad816480af53e10fa6.vega-embed details,\n",
       "  #altair-viz-b4ac5bc7994d48ad816480af53e10fa6.vega-embed details summary {\n",
       "    position: relative;\n",
       "  }\n",
       "</style>\n",
       "<div id=\"altair-viz-b4ac5bc7994d48ad816480af53e10fa6\"></div>\n",
       "<script type=\"text/javascript\">\n",
       "  var VEGA_DEBUG = (typeof VEGA_DEBUG == \"undefined\") ? {} : VEGA_DEBUG;\n",
       "  (function(spec, embedOpt){\n",
       "    let outputDiv = document.currentScript.previousElementSibling;\n",
       "    if (outputDiv.id !== \"altair-viz-b4ac5bc7994d48ad816480af53e10fa6\") {\n",
       "      outputDiv = document.getElementById(\"altair-viz-b4ac5bc7994d48ad816480af53e10fa6\");\n",
       "    }\n",
       "    const paths = {\n",
       "      \"vega\": \"https://cdn.jsdelivr.net/npm/vega@5?noext\",\n",
       "      \"vega-lib\": \"https://cdn.jsdelivr.net/npm/vega-lib?noext\",\n",
       "      \"vega-lite\": \"https://cdn.jsdelivr.net/npm/vega-lite@5.16.3?noext\",\n",
       "      \"vega-embed\": \"https://cdn.jsdelivr.net/npm/vega-embed@6?noext\",\n",
       "    };\n",
       "\n",
       "    function maybeLoadScript(lib, version) {\n",
       "      var key = `${lib.replace(\"-\", \"\")}_version`;\n",
       "      return (VEGA_DEBUG[key] == version) ?\n",
       "        Promise.resolve(paths[lib]) :\n",
       "        new Promise(function(resolve, reject) {\n",
       "          var s = document.createElement('script');\n",
       "          document.getElementsByTagName(\"head\")[0].appendChild(s);\n",
       "          s.async = true;\n",
       "          s.onload = () => {\n",
       "            VEGA_DEBUG[key] = version;\n",
       "            return resolve(paths[lib]);\n",
       "          };\n",
       "          s.onerror = () => reject(`Error loading script: ${paths[lib]}`);\n",
       "          s.src = paths[lib];\n",
       "        });\n",
       "    }\n",
       "\n",
       "    function showError(err) {\n",
       "      outputDiv.innerHTML = `<div class=\"error\" style=\"color:red;\">${err}</div>`;\n",
       "      throw err;\n",
       "    }\n",
       "\n",
       "    function displayChart(vegaEmbed) {\n",
       "      vegaEmbed(outputDiv, spec, embedOpt)\n",
       "        .catch(err => showError(`Javascript Error: ${err.message}<br>This usually means there's a typo in your chart specification. See the javascript console for the full traceback.`));\n",
       "    }\n",
       "\n",
       "    if(typeof define === \"function\" && define.amd) {\n",
       "      requirejs.config({paths});\n",
       "      require([\"vega-embed\"], displayChart, err => showError(`Error loading script: ${err.message}`));\n",
       "    } else {\n",
       "      maybeLoadScript(\"vega\", \"5\")\n",
       "        .then(() => maybeLoadScript(\"vega-lite\", \"5.16.3\"))\n",
       "        .then(() => maybeLoadScript(\"vega-embed\", \"6\"))\n",
       "        .catch(showError)\n",
       "        .then(() => displayChart(vegaEmbed));\n",
       "    }\n",
       "  })({\"config\": {\"view\": {\"continuousWidth\": 300, \"continuousHeight\": 300}}, \"data\": {\"name\": \"data-c46b1809fc5aa15bdd2934ea3f3fab54\"}, \"mark\": {\"type\": \"bar\"}, \"encoding\": {\"color\": {\"field\": \"POP\", \"type\": \"quantitative\"}, \"x\": {\"field\": \"POP\", \"type\": \"quantitative\"}, \"y\": {\"field\": \"NAME\", \"sort\": \"-x\", \"type\": \"nominal\"}}, \"$schema\": \"https://vega.github.io/schema/vega-lite/v5.16.3.json\", \"datasets\": {\"data-c46b1809fc5aa15bdd2934ea3f3fab54\": [{\"NAME\": \"Mississippi\", \"POP\": \"2976149\", \"state\": \"28\"}, {\"NAME\": \"Missouri\", \"POP\": \"6137428\", \"state\": \"29\"}, {\"NAME\": \"Montana\", \"POP\": \"1068778\", \"state\": \"30\"}, {\"NAME\": \"Nebraska\", \"POP\": \"1934408\", \"state\": \"31\"}, {\"NAME\": \"Nevada\", \"POP\": \"3080156\", \"state\": \"32\"}, {\"NAME\": \"New Hampshire\", \"POP\": \"1359711\", \"state\": \"33\"}, {\"NAME\": \"New Jersey\", \"POP\": \"8882190\", \"state\": \"34\"}, {\"NAME\": \"New Mexico\", \"POP\": \"2096829\", \"state\": \"35\"}, {\"NAME\": \"New York\", \"POP\": \"19453561\", \"state\": \"36\"}, {\"NAME\": \"North Carolina\", \"POP\": \"10488084\", \"state\": \"37\"}, {\"NAME\": \"North Dakota\", \"POP\": \"762062\", \"state\": \"38\"}, {\"NAME\": \"Ohio\", \"POP\": \"11689100\", \"state\": \"39\"}, {\"NAME\": \"Oklahoma\", \"POP\": \"3956971\", \"state\": \"40\"}, {\"NAME\": \"Oregon\", \"POP\": \"4217737\", \"state\": \"41\"}, {\"NAME\": \"Pennsylvania\", \"POP\": \"12801989\", \"state\": \"42\"}, {\"NAME\": \"Rhode Island\", \"POP\": \"1059361\", \"state\": \"44\"}, {\"NAME\": \"South Carolina\", \"POP\": \"5148714\", \"state\": \"45\"}, {\"NAME\": \"South Dakota\", \"POP\": \"884659\", \"state\": \"46\"}, {\"NAME\": \"Tennessee\", \"POP\": \"6829174\", \"state\": \"47\"}, {\"NAME\": \"Texas\", \"POP\": \"28995881\", \"state\": \"48\"}, {\"NAME\": \"Vermont\", \"POP\": \"623989\", \"state\": \"50\"}, {\"NAME\": \"Utah\", \"POP\": \"3205958\", \"state\": \"49\"}, {\"NAME\": \"Virginia\", \"POP\": \"8535519\", \"state\": \"51\"}, {\"NAME\": \"Washington\", \"POP\": \"7614893\", \"state\": \"53\"}, {\"NAME\": \"West Virginia\", \"POP\": \"1792147\", \"state\": \"54\"}, {\"NAME\": \"Wisconsin\", \"POP\": \"5822434\", \"state\": \"55\"}, {\"NAME\": \"Wyoming\", \"POP\": \"578759\", \"state\": \"56\"}, {\"NAME\": \"Puerto Rico\", \"POP\": \"3193694\", \"state\": \"72\"}, {\"NAME\": \"Alabama\", \"POP\": \"4903185\", \"state\": \"01\"}, {\"NAME\": \"Alaska\", \"POP\": \"731545\", \"state\": \"02\"}, {\"NAME\": \"Arizona\", \"POP\": \"7278717\", \"state\": \"04\"}, {\"NAME\": \"Arkansas\", \"POP\": \"3017804\", \"state\": \"05\"}, {\"NAME\": \"California\", \"POP\": \"39512223\", \"state\": \"06\"}, {\"NAME\": \"Colorado\", \"POP\": \"5758736\", \"state\": \"08\"}, {\"NAME\": \"Delaware\", \"POP\": \"973764\", \"state\": \"10\"}, {\"NAME\": \"District of Columbia\", \"POP\": \"705749\", \"state\": \"11\"}, {\"NAME\": \"Connecticut\", \"POP\": \"3565287\", \"state\": \"09\"}, {\"NAME\": \"Florida\", \"POP\": \"21477737\", \"state\": \"12\"}, {\"NAME\": \"Georgia\", \"POP\": \"10617423\", \"state\": \"13\"}, {\"NAME\": \"Idaho\", \"POP\": \"1787065\", \"state\": \"16\"}, {\"NAME\": \"Hawaii\", \"POP\": \"1415872\", \"state\": \"15\"}, {\"NAME\": \"Illinois\", \"POP\": \"12671821\", \"state\": \"17\"}, {\"NAME\": \"Indiana\", \"POP\": \"6732219\", \"state\": \"18\"}, {\"NAME\": \"Iowa\", \"POP\": \"3155070\", \"state\": \"19\"}, {\"NAME\": \"Kansas\", \"POP\": \"2913314\", \"state\": \"20\"}, {\"NAME\": \"Kentucky\", \"POP\": \"4467673\", \"state\": \"21\"}, {\"NAME\": \"Louisiana\", \"POP\": \"4648794\", \"state\": \"22\"}, {\"NAME\": \"Maine\", \"POP\": \"1344212\", \"state\": \"23\"}, {\"NAME\": \"Maryland\", \"POP\": \"6045680\", \"state\": \"24\"}, {\"NAME\": \"Massachusetts\", \"POP\": \"6892503\", \"state\": \"25\"}, {\"NAME\": \"Michigan\", \"POP\": \"9986857\", \"state\": \"26\"}, {\"NAME\": \"Minnesota\", \"POP\": \"5639632\", \"state\": \"27\"}]}}, {\"mode\": \"vega-lite\"});\n",
       "</script>"
      ],
      "text/plain": [
       "alt.Chart(...)"
      ]
     },
     "execution_count": 81,
     "metadata": {},
     "output_type": "execute_result"
    }
   ],
   "source": [
    "alt.Chart(census_data).mark_bar().encode(\n",
    "    alt.X('POP:Q'),\n",
    "    alt.Y('NAME:N',sort='-x'),\n",
    "    # alt.Order('POP:Q', order='descending'),\n",
    "    \n",
    "    \n",
    "    alt.Color('POP:Q')\n",
    ")\n"
   ]
  },
  {
   "cell_type": "code",
   "execution_count": 78,
   "metadata": {},
   "outputs": [],
   "source": [
    "chart.save('states_by_pop.html')"
   ]
  },
  {
   "cell_type": "code",
   "execution_count": null,
   "metadata": {},
   "outputs": [],
   "source": []
  }
 ],
 "metadata": {
  "kernelspec": {
   "display_name": "Python 3",
   "language": "python",
   "name": "python3"
  },
  "language_info": {
   "codemirror_mode": {
    "name": "ipython",
    "version": 3
   },
   "file_extension": ".py",
   "mimetype": "text/x-python",
   "name": "python",
   "nbconvert_exporter": "python",
   "pygments_lexer": "ipython3",
   "version": "3.10.13"
  }
 },
 "nbformat": 4,
 "nbformat_minor": 2
}
