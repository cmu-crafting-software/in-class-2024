{
 "cells": [
  {
   "cell_type": "code",
   "execution_count": 1,
   "metadata": {},
   "outputs": [],
   "source": [
    "import altair as alt\n",
    "import pandas as pd\n",
    "import requests"
   ]
  },
  {
   "cell_type": "code",
   "execution_count": 2,
   "metadata": {},
   "outputs": [
    {
     "name": "stdout",
     "output_type": "stream",
     "text": [
      "[[\"NAME\",\"POP\",\"state\"],\n",
      "[\"Mississippi\",\"2976149\",\"28\"],\n",
      "[\"Missouri\",\"6137428\",\"29\"],\n",
      "[\"Montana\",\"1068778\",\"30\"],\n",
      "[\"Nebraska\",\"1934408\",\"31\"],\n",
      "[\"Nevada\",\"3080156\",\"32\"],\n",
      "[\"New Hampshire\",\"1359711\",\"33\"],\n",
      "[\"New Jersey\",\"8882190\",\"34\"],\n",
      "[\"New Mexico\",\"2096829\",\"35\"],\n",
      "[\"New York\",\"19453561\",\"36\"],\n",
      "[\"North Carolina\",\"10488084\",\"37\"],\n",
      "[\"North Dakota\",\"762062\",\"38\"],\n",
      "[\"Ohio\",\"11689100\",\"39\"],\n",
      "[\"Oklahoma\",\"3956971\",\"40\"],\n",
      "[\"Oregon\",\"4217737\",\"41\"],\n",
      "[\"Pennsylvania\",\"12801989\",\"42\"],\n",
      "[\"Rhode Island\",\"1059361\",\"44\"],\n",
      "[\"South Carolina\",\"5148714\",\"45\"],\n",
      "[\"South Dakota\",\"884659\",\"46\"],\n",
      "[\"Tennessee\",\"6829174\",\"47\"],\n",
      "[\"Texas\",\"28995881\",\"48\"],\n",
      "[\"Vermont\",\"623989\",\"50\"],\n",
      "[\"Utah\",\"3205958\",\"49\"],\n",
      "[\"Virginia\",\"8535519\",\"51\"],\n",
      "[\"Washington\",\"7614893\",\"53\"],\n",
      "[\"West Virginia\",\"1792147\",\"54\"],\n",
      "[\"Wisconsin\",\"5822434\",\"55\"],\n",
      "[\"Wyoming\",\"578759\",\"56\"],\n",
      "[\"Puerto Rico\",\"3193694\",\"72\"],\n",
      "[\"Alabama\",\"4903185\",\"01\"],\n",
      "[\"Alaska\",\"731545\",\"02\"],\n",
      "[\"Arizona\",\"7278717\",\"04\"],\n",
      "[\"Arkansas\",\"3017804\",\"05\"],\n",
      "[\"California\",\"39512223\",\"06\"],\n",
      "[\"Colorado\",\"5758736\",\"08\"],\n",
      "[\"Delaware\",\"973764\",\"10\"],\n",
      "[\"District of Columbia\",\"705749\",\"11\"],\n",
      "[\"Connecticut\",\"3565287\",\"09\"],\n",
      "[\"Florida\",\"21477737\",\"12\"],\n",
      "[\"Georgia\",\"10617423\",\"13\"],\n",
      "[\"Idaho\",\"1787065\",\"16\"],\n",
      "[\"Hawaii\",\"1415872\",\"15\"],\n",
      "[\"Illinois\",\"12671821\",\"17\"],\n",
      "[\"Indiana\",\"6732219\",\"18\"],\n",
      "[\"Iowa\",\"3155070\",\"19\"],\n",
      "[\"Kansas\",\"2913314\",\"20\"],\n",
      "[\"Kentucky\",\"4467673\",\"21\"],\n",
      "[\"Louisiana\",\"4648794\",\"22\"],\n",
      "[\"Maine\",\"1344212\",\"23\"],\n",
      "[\"Maryland\",\"6045680\",\"24\"],\n",
      "[\"Massachusetts\",\"6892503\",\"25\"],\n",
      "[\"Michigan\",\"9986857\",\"26\"],\n",
      "[\"Minnesota\",\"5639632\",\"27\"]]\n"
     ]
    }
   ],
   "source": [
    "r = requests.get('https://api.census.gov/data/2019/pep/charagegroups?get=NAME,POP&for=state:*')\n",
    "print(r.text)\n",
    "\n",
    "data = r.json()\n",
    "\n",
    "census_data = pd.DataFrame(data[1:], columns=['state', 'POP', 'state number'])\n",
    "census_data\n",
    "\n",
    "url = 'https://gist.githubusercontent.com/officeofjane/2c3ed88c4be050d92765de912d71b7c4/raw/8abc5e19a5fac2ec63e81891d9bfdebe2d55f92c/publication-grids.csv'\n",
    "df = pd.read_csv(url)\n",
    "\n",
    "# filter the data to include only New York Times 2\n",
    "df = df[df['publication'] == 'New York Times 2']"
   ]
  },
  {
   "cell_type": "code",
   "execution_count": 3,
   "metadata": {},
   "outputs": [],
   "source": [
    "newdataframe = pd.merge(df, census_data, on='state')"
   ]
  },
  {
   "cell_type": "code",
   "execution_count": 4,
   "metadata": {},
   "outputs": [
    {
     "data": {
      "text/html": [
       "\n",
       "<style>\n",
       "  #altair-viz-e733644714c64ad092342328a3a53cab.vega-embed {\n",
       "    width: 100%;\n",
       "    display: flex;\n",
       "  }\n",
       "\n",
       "  #altair-viz-e733644714c64ad092342328a3a53cab.vega-embed details,\n",
       "  #altair-viz-e733644714c64ad092342328a3a53cab.vega-embed details summary {\n",
       "    position: relative;\n",
       "  }\n",
       "</style>\n",
       "<div id=\"altair-viz-e733644714c64ad092342328a3a53cab\"></div>\n",
       "<script type=\"text/javascript\">\n",
       "  var VEGA_DEBUG = (typeof VEGA_DEBUG == \"undefined\") ? {} : VEGA_DEBUG;\n",
       "  (function(spec, embedOpt){\n",
       "    let outputDiv = document.currentScript.previousElementSibling;\n",
       "    if (outputDiv.id !== \"altair-viz-e733644714c64ad092342328a3a53cab\") {\n",
       "      outputDiv = document.getElementById(\"altair-viz-e733644714c64ad092342328a3a53cab\");\n",
       "    }\n",
       "    const paths = {\n",
       "      \"vega\": \"https://cdn.jsdelivr.net/npm/vega@5?noext\",\n",
       "      \"vega-lib\": \"https://cdn.jsdelivr.net/npm/vega-lib?noext\",\n",
       "      \"vega-lite\": \"https://cdn.jsdelivr.net/npm/vega-lite@5.16.3?noext\",\n",
       "      \"vega-embed\": \"https://cdn.jsdelivr.net/npm/vega-embed@6?noext\",\n",
       "    };\n",
       "\n",
       "    function maybeLoadScript(lib, version) {\n",
       "      var key = `${lib.replace(\"-\", \"\")}_version`;\n",
       "      return (VEGA_DEBUG[key] == version) ?\n",
       "        Promise.resolve(paths[lib]) :\n",
       "        new Promise(function(resolve, reject) {\n",
       "          var s = document.createElement('script');\n",
       "          document.getElementsByTagName(\"head\")[0].appendChild(s);\n",
       "          s.async = true;\n",
       "          s.onload = () => {\n",
       "            VEGA_DEBUG[key] = version;\n",
       "            return resolve(paths[lib]);\n",
       "          };\n",
       "          s.onerror = () => reject(`Error loading script: ${paths[lib]}`);\n",
       "          s.src = paths[lib];\n",
       "        });\n",
       "    }\n",
       "\n",
       "    function showError(err) {\n",
       "      outputDiv.innerHTML = `<div class=\"error\" style=\"color:red;\">${err}</div>`;\n",
       "      throw err;\n",
       "    }\n",
       "\n",
       "    function displayChart(vegaEmbed) {\n",
       "      vegaEmbed(outputDiv, spec, embedOpt)\n",
       "        .catch(err => showError(`Javascript Error: ${err.message}<br>This usually means there's a typo in your chart specification. See the javascript console for the full traceback.`));\n",
       "    }\n",
       "\n",
       "    if(typeof define === \"function\" && define.amd) {\n",
       "      requirejs.config({paths});\n",
       "      require([\"vega-embed\"], displayChart, err => showError(`Error loading script: ${err.message}`));\n",
       "    } else {\n",
       "      maybeLoadScript(\"vega\", \"5\")\n",
       "        .then(() => maybeLoadScript(\"vega-lite\", \"5.16.3\"))\n",
       "        .then(() => maybeLoadScript(\"vega-embed\", \"6\"))\n",
       "        .catch(showError)\n",
       "        .then(() => displayChart(vegaEmbed));\n",
       "    }\n",
       "  })({\"config\": {\"view\": {\"continuousWidth\": 300, \"continuousHeight\": 300, \"strokeOpacity\": 0}}, \"layer\": [{\"mark\": {\"type\": \"rect\", \"cornerRadius\": 5, \"stroke\": null}, \"encoding\": {\"color\": {\"field\": \"POP\", \"scale\": {\"scheme\": \"purplered\"}, \"sort\": \"ascending\", \"type\": \"ordinal\"}, \"x\": {\"axis\": null, \"field\": \"col\", \"type\": \"ordinal\"}, \"y\": {\"axis\": null, \"field\": \"row\", \"type\": \"ordinal\"}}}, {\"mark\": {\"type\": \"text\", \"align\": \"center\", \"baseline\": \"middle\", \"fill\": \"black\", \"fontSize\": 14}, \"encoding\": {\"color\": {\"field\": \"POP\", \"scale\": {\"scheme\": \"purplered\"}, \"sort\": \"ascending\", \"type\": \"ordinal\"}, \"text\": {\"field\": \"code\", \"type\": \"ordinal\"}, \"x\": {\"axis\": null, \"field\": \"col\", \"type\": \"ordinal\"}, \"y\": {\"axis\": null, \"field\": \"row\", \"type\": \"ordinal\"}}}], \"data\": {\"name\": \"data-82df388cd7e6f865c0ec91aab34c65ce\"}, \"height\": 250, \"width\": 350, \"$schema\": \"https://vega.github.io/schema/vega-lite/v5.16.3.json\", \"datasets\": {\"data-82df388cd7e6f865c0ec91aab34c65ce\": [{\"id\": 1, \"publication\": \"New York Times 2\", \"state\": \"Alaska\", \"code\": \"AK\", \"col\": 3, \"row\": 1, \"POP\": \"731545\", \"state number\": \"02\"}, {\"id\": 2, \"publication\": \"New York Times 2\", \"state\": \"Washington\", \"code\": \"WA\", \"col\": 3, \"row\": 3, \"POP\": \"7614893\", \"state number\": \"53\"}, {\"id\": 3, \"publication\": \"New York Times 2\", \"state\": \"Oregon\", \"code\": \"OR\", \"col\": 3, \"row\": 4, \"POP\": \"4217737\", \"state number\": \"41\"}, {\"id\": 4, \"publication\": \"New York Times 2\", \"state\": \"California\", \"code\": \"CA\", \"col\": 3, \"row\": 5, \"POP\": \"39512223\", \"state number\": \"06\"}, {\"id\": 5, \"publication\": \"New York Times 2\", \"state\": \"Hawaii\", \"code\": \"HI\", \"col\": 3, \"row\": 8, \"POP\": \"1415872\", \"state number\": \"15\"}, {\"id\": 6, \"publication\": \"New York Times 2\", \"state\": \"Idaho\", \"code\": \"ID\", \"col\": 4, \"row\": 3, \"POP\": \"1787065\", \"state number\": \"16\"}, {\"id\": 7, \"publication\": \"New York Times 2\", \"state\": \"Nevada\", \"code\": \"NV\", \"col\": 4, \"row\": 4, \"POP\": \"3080156\", \"state number\": \"32\"}, {\"id\": 8, \"publication\": \"New York Times 2\", \"state\": \"Utah\", \"code\": \"UT\", \"col\": 4, \"row\": 5, \"POP\": \"3205958\", \"state number\": \"49\"}, {\"id\": 9, \"publication\": \"New York Times 2\", \"state\": \"Arizona\", \"code\": \"AZ\", \"col\": 4, \"row\": 6, \"POP\": \"7278717\", \"state number\": \"04\"}, {\"id\": 10, \"publication\": \"New York Times 2\", \"state\": \"Montana\", \"code\": \"MT\", \"col\": 5, \"row\": 3, \"POP\": \"1068778\", \"state number\": \"30\"}, {\"id\": 11, \"publication\": \"New York Times 2\", \"state\": \"Wyoming\", \"code\": \"WY\", \"col\": 5, \"row\": 4, \"POP\": \"578759\", \"state number\": \"56\"}, {\"id\": 12, \"publication\": \"New York Times 2\", \"state\": \"Colorado\", \"code\": \"CO\", \"col\": 5, \"row\": 5, \"POP\": \"5758736\", \"state number\": \"08\"}, {\"id\": 13, \"publication\": \"New York Times 2\", \"state\": \"New Mexico\", \"code\": \"NM\", \"col\": 5, \"row\": 6, \"POP\": \"2096829\", \"state number\": \"35\"}, {\"id\": 14, \"publication\": \"New York Times 2\", \"state\": \"North Dakota\", \"code\": \"ND\", \"col\": 6, \"row\": 3, \"POP\": \"762062\", \"state number\": \"38\"}, {\"id\": 15, \"publication\": \"New York Times 2\", \"state\": \"South Dakota\", \"code\": \"SD\", \"col\": 6, \"row\": 4, \"POP\": \"884659\", \"state number\": \"46\"}, {\"id\": 16, \"publication\": \"New York Times 2\", \"state\": \"Nebraska\", \"code\": \"NE\", \"col\": 6, \"row\": 5, \"POP\": \"1934408\", \"state number\": \"31\"}, {\"id\": 17, \"publication\": \"New York Times 2\", \"state\": \"Kansas\", \"code\": \"KS\", \"col\": 6, \"row\": 6, \"POP\": \"2913314\", \"state number\": \"20\"}, {\"id\": 18, \"publication\": \"New York Times 2\", \"state\": \"Oklahoma\", \"code\": \"OK\", \"col\": 6, \"row\": 7, \"POP\": \"3956971\", \"state number\": \"40\"}, {\"id\": 19, \"publication\": \"New York Times 2\", \"state\": \"Texas\", \"code\": \"TX\", \"col\": 6, \"row\": 8, \"POP\": \"28995881\", \"state number\": \"48\"}, {\"id\": 20, \"publication\": \"New York Times 2\", \"state\": \"Minnesota\", \"code\": \"MN\", \"col\": 7, \"row\": 3, \"POP\": \"5639632\", \"state number\": \"27\"}, {\"id\": 21, \"publication\": \"New York Times 2\", \"state\": \"Iowa\", \"code\": \"IA\", \"col\": 7, \"row\": 4, \"POP\": \"3155070\", \"state number\": \"19\"}, {\"id\": 22, \"publication\": \"New York Times 2\", \"state\": \"Missouri\", \"code\": \"MO\", \"col\": 7, \"row\": 5, \"POP\": \"6137428\", \"state number\": \"29\"}, {\"id\": 23, \"publication\": \"New York Times 2\", \"state\": \"Arkansas\", \"code\": \"AR\", \"col\": 7, \"row\": 6, \"POP\": \"3017804\", \"state number\": \"05\"}, {\"id\": 24, \"publication\": \"New York Times 2\", \"state\": \"Louisiana\", \"code\": \"LA\", \"col\": 7, \"row\": 7, \"POP\": \"4648794\", \"state number\": \"22\"}, {\"id\": 25, \"publication\": \"New York Times 2\", \"state\": \"Wisconsin\", \"code\": \"WI\", \"col\": 8, \"row\": 2, \"POP\": \"5822434\", \"state number\": \"55\"}, {\"id\": 26, \"publication\": \"New York Times 2\", \"state\": \"Illinois\", \"code\": \"IL\", \"col\": 8, \"row\": 3, \"POP\": \"12671821\", \"state number\": \"17\"}, {\"id\": 27, \"publication\": \"New York Times 2\", \"state\": \"Indiana\", \"code\": \"IN\", \"col\": 8, \"row\": 4, \"POP\": \"6732219\", \"state number\": \"18\"}, {\"id\": 28, \"publication\": \"New York Times 2\", \"state\": \"Kentucky\", \"code\": \"KY\", \"col\": 8, \"row\": 5, \"POP\": \"4467673\", \"state number\": \"21\"}, {\"id\": 29, \"publication\": \"New York Times 2\", \"state\": \"Tennessee\", \"code\": \"TN\", \"col\": 8, \"row\": 6, \"POP\": \"6829174\", \"state number\": \"47\"}, {\"id\": 30, \"publication\": \"New York Times 2\", \"state\": \"Mississippi\", \"code\": \"MS\", \"col\": 8, \"row\": 7, \"POP\": \"2976149\", \"state number\": \"28\"}, {\"id\": 31, \"publication\": \"New York Times 2\", \"state\": \"Michigan\", \"code\": \"MI\", \"col\": 9, \"row\": 3, \"POP\": \"9986857\", \"state number\": \"26\"}, {\"id\": 32, \"publication\": \"New York Times 2\", \"state\": \"Ohio\", \"code\": \"OH\", \"col\": 9, \"row\": 4, \"POP\": \"11689100\", \"state number\": \"39\"}, {\"id\": 33, \"publication\": \"New York Times 2\", \"state\": \"West Virginia\", \"code\": \"WV\", \"col\": 9, \"row\": 5, \"POP\": \"1792147\", \"state number\": \"54\"}, {\"id\": 34, \"publication\": \"New York Times 2\", \"state\": \"North Carolina\", \"code\": \"NC\", \"col\": 9, \"row\": 6, \"POP\": \"10488084\", \"state number\": \"37\"}, {\"id\": 35, \"publication\": \"New York Times 2\", \"state\": \"Alabama\", \"code\": \"AL\", \"col\": 9, \"row\": 7, \"POP\": \"4903185\", \"state number\": \"01\"}, {\"id\": 36, \"publication\": \"New York Times 2\", \"state\": \"Pennsylvania\", \"code\": \"PA\", \"col\": 10, \"row\": 4, \"POP\": \"12801989\", \"state number\": \"42\"}, {\"id\": 37, \"publication\": \"New York Times 2\", \"state\": \"Virginia\", \"code\": \"VA\", \"col\": 10, \"row\": 5, \"POP\": \"8535519\", \"state number\": \"51\"}, {\"id\": 38, \"publication\": \"New York Times 2\", \"state\": \"South Carolina\", \"code\": \"SC\", \"col\": 10, \"row\": 6, \"POP\": \"5148714\", \"state number\": \"45\"}, {\"id\": 39, \"publication\": \"New York Times 2\", \"state\": \"Georgia\", \"code\": \"GA\", \"col\": 10, \"row\": 7, \"POP\": \"10617423\", \"state number\": \"13\"}, {\"id\": 40, \"publication\": \"New York Times 2\", \"state\": \"New York\", \"code\": \"NY\", \"col\": 11, \"row\": 3, \"POP\": \"19453561\", \"state number\": \"36\"}, {\"id\": 41, \"publication\": \"New York Times 2\", \"state\": \"New Jersey\", \"code\": \"NJ\", \"col\": 11, \"row\": 4, \"POP\": \"8882190\", \"state number\": \"34\"}, {\"id\": 42, \"publication\": \"New York Times 2\", \"state\": \"Maryland\", \"code\": \"MD\", \"col\": 11, \"row\": 5, \"POP\": \"6045680\", \"state number\": \"24\"}, {\"id\": 43, \"publication\": \"New York Times 2\", \"state\": \"Florida\", \"code\": \"FL\", \"col\": 11, \"row\": 8, \"POP\": \"21477737\", \"state number\": \"12\"}, {\"id\": 44, \"publication\": \"New York Times 2\", \"state\": \"Vermont\", \"code\": \"VT\", \"col\": 12, \"row\": 2, \"POP\": \"623989\", \"state number\": \"50\"}, {\"id\": 45, \"publication\": \"New York Times 2\", \"state\": \"Massachusetts\", \"code\": \"MA\", \"col\": 12, \"row\": 3, \"POP\": \"6892503\", \"state number\": \"25\"}, {\"id\": 46, \"publication\": \"New York Times 2\", \"state\": \"Connecticut\", \"code\": \"CT\", \"col\": 12, \"row\": 4, \"POP\": \"3565287\", \"state number\": \"09\"}, {\"id\": 47, \"publication\": \"New York Times 2\", \"state\": \"Delaware\", \"code\": \"DE\", \"col\": 12, \"row\": 5, \"POP\": \"973764\", \"state number\": \"10\"}, {\"id\": 48, \"publication\": \"New York Times 2\", \"state\": \"Maine\", \"code\": \"ME\", \"col\": 13, \"row\": 1, \"POP\": \"1344212\", \"state number\": \"23\"}, {\"id\": 49, \"publication\": \"New York Times 2\", \"state\": \"New Hampshire\", \"code\": \"NH\", \"col\": 13, \"row\": 2, \"POP\": \"1359711\", \"state number\": \"33\"}, {\"id\": 50, \"publication\": \"New York Times 2\", \"state\": \"Rhode Island\", \"code\": \"RI\", \"col\": 13, \"row\": 4, \"POP\": \"1059361\", \"state number\": \"44\"}]}}, {\"mode\": \"vega-lite\"});\n",
       "</script>"
      ],
      "text/plain": [
       "alt.LayerChart(...)"
      ]
     },
     "execution_count": 4,
     "metadata": {},
     "output_type": "execute_result"
    }
   ],
   "source": [
    "heatmap = alt.Chart(newdataframe).mark_rect(stroke=None, cornerRadius=5).encode(\n",
    "    x=alt.X('col:O', axis=None),\n",
    "    y=alt.Y('row:O', axis=None),\n",
    "    color = alt.Color('POP:O', sort='ascending', scale=alt.Scale(scheme='purplered'))\n",
    ")\n",
    "\n",
    "text = heatmap.mark_text(baseline='middle', align='center', fill='black', fontSize=14).encode(\n",
    "    text='code:O'\n",
    ")\n",
    "\n",
    "chart = (heatmap + text).properties(width=350, height=250).configure_view(strokeOpacity=0)\n",
    "\n",
    "# display the chart\n",
    "chart\n",
    "\n",
    "#chart.save(\"Heatmap of the US.html\")"
   ]
  }
 ],
 "metadata": {
  "kernelspec": {
   "display_name": "Python 3",
   "language": "python",
   "name": "python3"
  },
  "language_info": {
   "codemirror_mode": {
    "name": "ipython",
    "version": 3
   },
   "file_extension": ".py",
   "mimetype": "text/x-python",
   "name": "python",
   "nbconvert_exporter": "python",
   "pygments_lexer": "ipython3",
   "version": "3.10.13"
  }
 },
 "nbformat": 4,
 "nbformat_minor": 2
}
