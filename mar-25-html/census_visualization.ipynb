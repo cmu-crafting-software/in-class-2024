{
 "cells": [
  {
   "cell_type": "code",
   "execution_count": 1,
   "metadata": {},
   "outputs": [],
   "source": [
    "import altair as alt\n",
    "import pandas as pd\n",
    "import requests"
   ]
  },
  {
   "cell_type": "code",
   "execution_count": 27,
   "metadata": {},
   "outputs": [
    {
     "name": "stdout",
     "output_type": "stream",
     "text": [
      "[[\"NAME\",\"POP\",\"state\"],\n",
      "[\"Mississippi\",\"2976149\",\"28\"],\n",
      "[\"Missouri\",\"6137428\",\"29\"],\n",
      "[\"Montana\",\"1068778\",\"30\"],\n",
      "[\"Nebraska\",\"1934408\",\"31\"],\n",
      "[\"Nevada\",\"3080156\",\"32\"],\n",
      "[\"New Hampshire\",\"1359711\",\"33\"],\n",
      "[\"New Jersey\",\"8882190\",\"34\"],\n",
      "[\"New Mexico\",\"2096829\",\"35\"],\n",
      "[\"New York\",\"19453561\",\"36\"],\n",
      "[\"North Carolina\",\"10488084\",\"37\"],\n",
      "[\"North Dakota\",\"762062\",\"38\"],\n",
      "[\"Ohio\",\"11689100\",\"39\"],\n",
      "[\"Oklahoma\",\"3956971\",\"40\"],\n",
      "[\"Oregon\",\"4217737\",\"41\"],\n",
      "[\"Pennsylvania\",\"12801989\",\"42\"],\n",
      "[\"Rhode Island\",\"1059361\",\"44\"],\n",
      "[\"South Carolina\",\"5148714\",\"45\"],\n",
      "[\"South Dakota\",\"884659\",\"46\"],\n",
      "[\"Tennessee\",\"6829174\",\"47\"],\n",
      "[\"Texas\",\"28995881\",\"48\"],\n",
      "[\"Vermont\",\"623989\",\"50\"],\n",
      "[\"Utah\",\"3205958\",\"49\"],\n",
      "[\"Virginia\",\"8535519\",\"51\"],\n",
      "[\"Washington\",\"7614893\",\"53\"],\n",
      "[\"West Virginia\",\"1792147\",\"54\"],\n",
      "[\"Wisconsin\",\"5822434\",\"55\"],\n",
      "[\"Wyoming\",\"578759\",\"56\"],\n",
      "[\"Puerto Rico\",\"3193694\",\"72\"],\n",
      "[\"Alabama\",\"4903185\",\"01\"],\n",
      "[\"Alaska\",\"731545\",\"02\"],\n",
      "[\"Arizona\",\"7278717\",\"04\"],\n",
      "[\"Arkansas\",\"3017804\",\"05\"],\n",
      "[\"California\",\"39512223\",\"06\"],\n",
      "[\"Colorado\",\"5758736\",\"08\"],\n",
      "[\"Delaware\",\"973764\",\"10\"],\n",
      "[\"District of Columbia\",\"705749\",\"11\"],\n",
      "[\"Connecticut\",\"3565287\",\"09\"],\n",
      "[\"Florida\",\"21477737\",\"12\"],\n",
      "[\"Georgia\",\"10617423\",\"13\"],\n",
      "[\"Idaho\",\"1787065\",\"16\"],\n",
      "[\"Hawaii\",\"1415872\",\"15\"],\n",
      "[\"Illinois\",\"12671821\",\"17\"],\n",
      "[\"Indiana\",\"6732219\",\"18\"],\n",
      "[\"Iowa\",\"3155070\",\"19\"],\n",
      "[\"Kansas\",\"2913314\",\"20\"],\n",
      "[\"Kentucky\",\"4467673\",\"21\"],\n",
      "[\"Louisiana\",\"4648794\",\"22\"],\n",
      "[\"Maine\",\"1344212\",\"23\"],\n",
      "[\"Maryland\",\"6045680\",\"24\"],\n",
      "[\"Massachusetts\",\"6892503\",\"25\"],\n",
      "[\"Michigan\",\"9986857\",\"26\"],\n",
      "[\"Minnesota\",\"5639632\",\"27\"]]\n"
     ]
    }
   ],
   "source": [
    "r = requests.get('https://api.census.gov/data/2019/pep/charagegroups?get=NAME,POP&for=state:*')\n",
    "print(r.text)\n",
    "\n",
    "data = r.json()\n",
    "\n",
    "census_data = pd.DataFrame(data[1:], columns=['state', 'POP', 'state number'])\n",
    "census_data\n",
    "\n",
    "url = 'https://gist.githubusercontent.com/officeofjane/2c3ed88c4be050d92765de912d71b7c4/raw/8abc5e19a5fac2ec63e81891d9bfdebe2d55f92c/publication-grids.csv'\n",
    "df = pd.read_csv(url)\n",
    "\n",
    "# filter the data to include only New York Times 2\n",
    "df = df[df['publication'] == 'New York Times 2']"
   ]
  },
  {
   "cell_type": "code",
   "execution_count": 28,
   "metadata": {},
   "outputs": [],
   "source": [
    "newdataframe = pd.merge(df, census_data, on='state')"
   ]
  },
  {
   "cell_type": "code",
   "execution_count": 35,
   "metadata": {},
   "outputs": [],
   "source": [
    "heatmap = alt.Chart(newdataframe).mark_rect(stroke=None, cornerRadius=5).encode(\n",
    "    x=alt.X('col:O', axis=None),\n",
    "    y=alt.Y('row:O', axis=None),\n",
    "    color = alt.Color('POP:O', scale=alt.Scale(scheme='purplered'))\n",
    ")\n",
    "\n",
    "text = heatmap.mark_text(baseline='middle', align='center', fill='black', fontSize=14).encode(\n",
    "    text='code:O'\n",
    ")\n",
    "\n",
    "chart = (heatmap + text).properties(width=350, height=250).configure_view(strokeOpacity=0)\n",
    "\n",
    "# display the chart\n",
    "chart\n",
    "\n",
    "chart.save('Heatmap of the US.html')"
   ]
  }
 ],
 "metadata": {
  "kernelspec": {
   "display_name": "Python 3",
   "language": "python",
   "name": "python3"
  },
  "language_info": {
   "codemirror_mode": {
    "name": "ipython",
    "version": 3
   },
   "file_extension": ".py",
   "mimetype": "text/x-python",
   "name": "python",
   "nbconvert_exporter": "python",
   "pygments_lexer": "ipython3",
   "version": "3.10.13"
  }
 },
 "nbformat": 4,
 "nbformat_minor": 2
}
