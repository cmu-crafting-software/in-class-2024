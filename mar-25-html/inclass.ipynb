{
 "cells": [
  {
   "cell_type": "code",
   "execution_count": 37,
   "metadata": {},
   "outputs": [],
   "source": [
    "import pandas as pd\n",
    "import requests\n",
    "import altair as alt"
   ]
  },
  {
   "cell_type": "code",
   "execution_count": 38,
   "metadata": {},
   "outputs": [
    {
     "data": {
      "text/html": [
       "<div>\n",
       "<style scoped>\n",
       "    .dataframe tbody tr th:only-of-type {\n",
       "        vertical-align: middle;\n",
       "    }\n",
       "\n",
       "    .dataframe tbody tr th {\n",
       "        vertical-align: top;\n",
       "    }\n",
       "\n",
       "    .dataframe thead th {\n",
       "        text-align: right;\n",
       "    }\n",
       "</style>\n",
       "<table border=\"1\" class=\"dataframe\">\n",
       "  <thead>\n",
       "    <tr style=\"text-align: right;\">\n",
       "      <th></th>\n",
       "      <th>NAME</th>\n",
       "      <th>POP</th>\n",
       "      <th>AGEGROUP</th>\n",
       "      <th>state</th>\n",
       "    </tr>\n",
       "  </thead>\n",
       "  <tbody>\n",
       "    <tr>\n",
       "      <th>0</th>\n",
       "      <td>Mississippi</td>\n",
       "      <td>2277566</td>\n",
       "      <td>29</td>\n",
       "      <td>28</td>\n",
       "    </tr>\n",
       "    <tr>\n",
       "      <th>1</th>\n",
       "      <td>Missouri</td>\n",
       "      <td>4766843</td>\n",
       "      <td>29</td>\n",
       "      <td>29</td>\n",
       "    </tr>\n",
       "    <tr>\n",
       "      <th>2</th>\n",
       "      <td>Montana</td>\n",
       "      <td>840190</td>\n",
       "      <td>29</td>\n",
       "      <td>30</td>\n",
       "    </tr>\n",
       "    <tr>\n",
       "      <th>3</th>\n",
       "      <td>Nebraska</td>\n",
       "      <td>1458334</td>\n",
       "      <td>29</td>\n",
       "      <td>31</td>\n",
       "    </tr>\n",
       "    <tr>\n",
       "      <th>4</th>\n",
       "      <td>Nevada</td>\n",
       "      <td>2387517</td>\n",
       "      <td>29</td>\n",
       "      <td>32</td>\n",
       "    </tr>\n",
       "  </tbody>\n",
       "</table>\n",
       "</div>"
      ],
      "text/plain": [
       "          NAME      POP AGEGROUP state\n",
       "0  Mississippi  2277566       29    28\n",
       "1     Missouri  4766843       29    29\n",
       "2      Montana   840190       29    30\n",
       "3     Nebraska  1458334       29    31\n",
       "4       Nevada  2387517       29    32"
      ]
     },
     "execution_count": 38,
     "metadata": {},
     "output_type": "execute_result"
    }
   ],
   "source": [
    "# Import data into dataframes via a REST API (census data).\n",
    "r = requests.get('https://api.census.gov/data/2019/pep/charagegroups?get=NAME,POP&for=state:*&AGEGROUP=29') # 18+ population for each state\n",
    "data = r.json()\n",
    "census_data = pd.DataFrame(data[1:], columns=data[0])\n",
    "census_data.head(5)"
   ]
  },
  {
   "cell_type": "code",
   "execution_count": 42,
   "metadata": {},
   "outputs": [
    {
     "data": {
      "text/html": [
       "\n",
       "<style>\n",
       "  #altair-viz-4675d7ef814e401da77ab7d34aff4e76.vega-embed {\n",
       "    width: 100%;\n",
       "    display: flex;\n",
       "  }\n",
       "\n",
       "  #altair-viz-4675d7ef814e401da77ab7d34aff4e76.vega-embed details,\n",
       "  #altair-viz-4675d7ef814e401da77ab7d34aff4e76.vega-embed details summary {\n",
       "    position: relative;\n",
       "  }\n",
       "</style>\n",
       "<div id=\"altair-viz-4675d7ef814e401da77ab7d34aff4e76\"></div>\n",
       "<script type=\"text/javascript\">\n",
       "  var VEGA_DEBUG = (typeof VEGA_DEBUG == \"undefined\") ? {} : VEGA_DEBUG;\n",
       "  (function(spec, embedOpt){\n",
       "    let outputDiv = document.currentScript.previousElementSibling;\n",
       "    if (outputDiv.id !== \"altair-viz-4675d7ef814e401da77ab7d34aff4e76\") {\n",
       "      outputDiv = document.getElementById(\"altair-viz-4675d7ef814e401da77ab7d34aff4e76\");\n",
       "    }\n",
       "    const paths = {\n",
       "      \"vega\": \"https://cdn.jsdelivr.net/npm/vega@5?noext\",\n",
       "      \"vega-lib\": \"https://cdn.jsdelivr.net/npm/vega-lib?noext\",\n",
       "      \"vega-lite\": \"https://cdn.jsdelivr.net/npm/vega-lite@5.16.3?noext\",\n",
       "      \"vega-embed\": \"https://cdn.jsdelivr.net/npm/vega-embed@6?noext\",\n",
       "    };\n",
       "\n",
       "    function maybeLoadScript(lib, version) {\n",
       "      var key = `${lib.replace(\"-\", \"\")}_version`;\n",
       "      return (VEGA_DEBUG[key] == version) ?\n",
       "        Promise.resolve(paths[lib]) :\n",
       "        new Promise(function(resolve, reject) {\n",
       "          var s = document.createElement('script');\n",
       "          document.getElementsByTagName(\"head\")[0].appendChild(s);\n",
       "          s.async = true;\n",
       "          s.onload = () => {\n",
       "            VEGA_DEBUG[key] = version;\n",
       "            return resolve(paths[lib]);\n",
       "          };\n",
       "          s.onerror = () => reject(`Error loading script: ${paths[lib]}`);\n",
       "          s.src = paths[lib];\n",
       "        });\n",
       "    }\n",
       "\n",
       "    function showError(err) {\n",
       "      outputDiv.innerHTML = `<div class=\"error\" style=\"color:red;\">${err}</div>`;\n",
       "      throw err;\n",
       "    }\n",
       "\n",
       "    function displayChart(vegaEmbed) {\n",
       "      vegaEmbed(outputDiv, spec, embedOpt)\n",
       "        .catch(err => showError(`Javascript Error: ${err.message}<br>This usually means there's a typo in your chart specification. See the javascript console for the full traceback.`));\n",
       "    }\n",
       "\n",
       "    if(typeof define === \"function\" && define.amd) {\n",
       "      requirejs.config({paths});\n",
       "      require([\"vega-embed\"], displayChart, err => showError(`Error loading script: ${err.message}`));\n",
       "    } else {\n",
       "      maybeLoadScript(\"vega\", \"5\")\n",
       "        .then(() => maybeLoadScript(\"vega-lite\", \"5.16.3\"))\n",
       "        .then(() => maybeLoadScript(\"vega-embed\", \"6\"))\n",
       "        .catch(showError)\n",
       "        .then(() => displayChart(vegaEmbed));\n",
       "    }\n",
       "  })({\"config\": {\"view\": {\"continuousWidth\": 300, \"continuousHeight\": 300}}, \"data\": {\"name\": \"data-c525e9befdca47f9d5a6527d3d96cd6c\"}, \"mark\": {\"type\": \"bar\", \"color\": \"black\", \"opacity\": 0.8}, \"encoding\": {\"x\": {\"field\": \"POP\", \"title\": \"Population\", \"type\": \"quantitative\"}, \"y\": {\"field\": \"NAME\", \"sort\": \"-x\", \"title\": \"State\", \"type\": \"nominal\"}}, \"title\": \"18+ Population for all US states\", \"width\": 800, \"$schema\": \"https://vega.github.io/schema/vega-lite/v5.16.3.json\", \"datasets\": {\"data-c525e9befdca47f9d5a6527d3d96cd6c\": [{\"NAME\": \"Mississippi\", \"POP\": \"2277566\", \"AGEGROUP\": \"29\", \"state\": \"28\"}, {\"NAME\": \"Missouri\", \"POP\": \"4766843\", \"AGEGROUP\": \"29\", \"state\": \"29\"}, {\"NAME\": \"Montana\", \"POP\": \"840190\", \"AGEGROUP\": \"29\", \"state\": \"30\"}, {\"NAME\": \"Nebraska\", \"POP\": \"1458334\", \"AGEGROUP\": \"29\", \"state\": \"31\"}, {\"NAME\": \"Nevada\", \"POP\": \"2387517\", \"AGEGROUP\": \"29\", \"state\": \"32\"}, {\"NAME\": \"New Hampshire\", \"POP\": \"1104458\", \"AGEGROUP\": \"29\", \"state\": \"33\"}, {\"NAME\": \"New Jersey\", \"POP\": \"6943612\", \"AGEGROUP\": \"29\", \"state\": \"34\"}, {\"NAME\": \"New Mexico\", \"POP\": \"1620991\", \"AGEGROUP\": \"29\", \"state\": \"35\"}, {\"NAME\": \"New York\", \"POP\": \"15425262\", \"AGEGROUP\": \"29\", \"state\": \"36\"}, {\"NAME\": \"North Carolina\", \"POP\": \"8187369\", \"AGEGROUP\": \"29\", \"state\": \"37\"}, {\"NAME\": \"North Dakota\", \"POP\": \"581891\", \"AGEGROUP\": \"29\", \"state\": \"38\"}, {\"NAME\": \"Ohio\", \"POP\": \"9111081\", \"AGEGROUP\": \"29\", \"state\": \"39\"}, {\"NAME\": \"Oklahoma\", \"POP\": \"3004733\", \"AGEGROUP\": \"29\", \"state\": \"40\"}, {\"NAME\": \"Oregon\", \"POP\": \"3351175\", \"AGEGROUP\": \"29\", \"state\": \"41\"}, {\"NAME\": \"Pennsylvania\", \"POP\": \"10167376\", \"AGEGROUP\": \"29\", \"state\": \"42\"}, {\"NAME\": \"Rhode Island\", \"POP\": \"854866\", \"AGEGROUP\": \"29\", \"state\": \"44\"}, {\"NAME\": \"South Carolina\", \"POP\": \"4037531\", \"AGEGROUP\": \"29\", \"state\": \"45\"}, {\"NAME\": \"South Dakota\", \"POP\": \"667558\", \"AGEGROUP\": \"29\", \"state\": \"46\"}, {\"NAME\": \"Tennessee\", \"POP\": \"5319123\", \"AGEGROUP\": \"29\", \"state\": \"47\"}, {\"NAME\": \"Texas\", \"POP\": \"21596071\", \"AGEGROUP\": \"29\", \"state\": \"48\"}, {\"NAME\": \"Vermont\", \"POP\": \"509984\", \"AGEGROUP\": \"29\", \"state\": \"50\"}, {\"NAME\": \"Utah\", \"POP\": \"2274774\", \"AGEGROUP\": \"29\", \"state\": \"49\"}, {\"NAME\": \"Virginia\", \"POP\": \"6674671\", \"AGEGROUP\": \"29\", \"state\": \"51\"}, {\"NAME\": \"Washington\", \"POP\": \"5951832\", \"AGEGROUP\": \"29\", \"state\": \"53\"}, {\"NAME\": \"West Virginia\", \"POP\": \"1432580\", \"AGEGROUP\": \"29\", \"state\": \"54\"}, {\"NAME\": \"Wisconsin\", \"POP\": \"4555837\", \"AGEGROUP\": \"29\", \"state\": \"55\"}, {\"NAME\": \"Wyoming\", \"POP\": \"445025\", \"AGEGROUP\": \"29\", \"state\": \"56\"}, {\"NAME\": \"Puerto Rico\", \"POP\": \"2620963\", \"AGEGROUP\": \"29\", \"state\": \"72\"}, {\"NAME\": \"Alabama\", \"POP\": \"3814879\", \"AGEGROUP\": \"29\", \"state\": \"01\"}, {\"NAME\": \"Alaska\", \"POP\": \"551562\", \"AGEGROUP\": \"29\", \"state\": \"02\"}, {\"NAME\": \"Arizona\", \"POP\": \"5638481\", \"AGEGROUP\": \"29\", \"state\": \"04\"}, {\"NAME\": \"Arkansas\", \"POP\": \"2317649\", \"AGEGROUP\": \"29\", \"state\": \"05\"}, {\"NAME\": \"California\", \"POP\": \"30617582\", \"AGEGROUP\": \"29\", \"state\": \"06\"}, {\"NAME\": \"Colorado\", \"POP\": \"4499217\", \"AGEGROUP\": \"29\", \"state\": \"08\"}, {\"NAME\": \"Delaware\", \"POP\": \"770192\", \"AGEGROUP\": \"29\", \"state\": \"10\"}, {\"NAME\": \"District of Columbia\", \"POP\": \"577581\", \"AGEGROUP\": \"29\", \"state\": \"11\"}, {\"NAME\": \"Connecticut\", \"POP\": \"2837847\", \"AGEGROUP\": \"29\", \"state\": \"09\"}, {\"NAME\": \"Florida\", \"POP\": \"17247808\", \"AGEGROUP\": \"29\", \"state\": \"12\"}, {\"NAME\": \"Georgia\", \"POP\": \"8113542\", \"AGEGROUP\": \"29\", \"state\": \"13\"}, {\"NAME\": \"Idaho\", \"POP\": \"1338864\", \"AGEGROUP\": \"29\", \"state\": \"16\"}, {\"NAME\": \"Hawaii\", \"POP\": \"1116004\", \"AGEGROUP\": \"29\", \"state\": \"15\"}, {\"NAME\": \"Illinois\", \"POP\": \"9853946\", \"AGEGROUP\": \"29\", \"state\": \"17\"}, {\"NAME\": \"Indiana\", \"POP\": \"5164245\", \"AGEGROUP\": \"29\", \"state\": \"18\"}, {\"NAME\": \"Iowa\", \"POP\": \"2428229\", \"AGEGROUP\": \"29\", \"state\": \"19\"}, {\"NAME\": \"Kansas\", \"POP\": \"2213064\", \"AGEGROUP\": \"29\", \"state\": \"20\"}, {\"NAME\": \"Kentucky\", \"POP\": \"3464802\", \"AGEGROUP\": \"29\", \"state\": \"21\"}, {\"NAME\": \"Louisiana\", \"POP\": \"3561164\", \"AGEGROUP\": \"29\", \"state\": \"22\"}, {\"NAME\": \"Maine\", \"POP\": \"1095370\", \"AGEGROUP\": \"29\", \"state\": \"23\"}, {\"NAME\": \"Maryland\", \"POP\": \"4710993\", \"AGEGROUP\": \"29\", \"state\": \"24\"}, {\"NAME\": \"Massachusetts\", \"POP\": \"5539703\", \"AGEGROUP\": \"29\", \"state\": \"25\"}, {\"NAME\": \"Michigan\", \"POP\": \"7842924\", \"AGEGROUP\": \"29\", \"state\": \"26\"}, {\"NAME\": \"Minnesota\", \"POP\": \"4336475\", \"AGEGROUP\": \"29\", \"state\": \"27\"}]}}, {\"mode\": \"vega-lite\"});\n",
       "</script>"
      ],
      "text/plain": [
       "alt.Chart(...)"
      ]
     },
     "execution_count": 42,
     "metadata": {},
     "output_type": "execute_result"
    }
   ],
   "source": [
    "chart = alt.Chart(census_data).mark_bar(color='black',opacity=0.8).encode(\n",
    "    y = alt.Y('NAME',title = 'State').sort('-x'),\n",
    "    x = alt.X('POP:Q',title = 'Population')\n",
    ").properties(width=800,title=\"18+ Population for all US states\")\n",
    "\n",
    "chart"
   ]
  },
  {
   "cell_type": "code",
   "execution_count": 40,
   "metadata": {},
   "outputs": [],
   "source": [
    "chart.save('chart.html')"
   ]
  }
 ],
 "metadata": {
  "kernelspec": {
   "display_name": "Python 3",
   "language": "python",
   "name": "python3"
  },
  "language_info": {
   "codemirror_mode": {
    "name": "ipython",
    "version": 3
   },
   "file_extension": ".py",
   "mimetype": "text/x-python",
   "name": "python",
   "nbconvert_exporter": "python",
   "pygments_lexer": "ipython3",
   "version": "3.10.13"
  }
 },
 "nbformat": 4,
 "nbformat_minor": 2
}
