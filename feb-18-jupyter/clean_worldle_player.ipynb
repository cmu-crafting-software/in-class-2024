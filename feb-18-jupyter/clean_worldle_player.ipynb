{
 "cells": [
  {
   "cell_type": "code",
   "execution_count": 5,
   "metadata": {},
   "outputs": [],
   "source": [
    "import csv\n",
    "import random"
   ]
  },
  {
   "cell_type": "code",
   "execution_count": 6,
   "metadata": {},
   "outputs": [],
   "source": [
    "# Initialize the game\n",
    "\n",
    "\n",
    "\n",
    "word_list = []\n",
    "with open('wordle.csv', newline='') as csvfile:\n",
    "    spamreader = csv.reader(csvfile, delimiter=' ', quotechar='|')\n",
    "    for row in spamreader:\n",
    "        word_list.append(row[0].split(\",\")[0])\n",
    "\n",
    "assert len(word_list) ==12973\n",
    "\n",
    "answer_word = random.choice(word_list)"
   ]
  },
  {
   "cell_type": "code",
   "execution_count": 7,
   "metadata": {},
   "outputs": [
    {
     "name": "stdout",
     "output_type": "stream",
     "text": [
      "glaum\n"
     ]
    }
   ],
   "source": [
    "# Play the game\n",
    "\n",
    "# pick a guess word\n",
    "random_start = random.choice(word_list)\n",
    "print(random_start)\n",
    "# check the guess word\n",
    "\n",
    "# pick new guess based on hint"
   ]
  }
 ],
 "metadata": {
  "kernelspec": {
   "display_name": "Python 3",
   "language": "python",
   "name": "python3"
  },
  "language_info": {
   "codemirror_mode": {
    "name": "ipython",
    "version": 3
   },
   "file_extension": ".py",
   "mimetype": "text/x-python",
   "name": "python",
   "nbconvert_exporter": "python",
   "pygments_lexer": "ipython3",
   "version": "3.10.13"
  }
 },
 "nbformat": 4,
 "nbformat_minor": 2
}
