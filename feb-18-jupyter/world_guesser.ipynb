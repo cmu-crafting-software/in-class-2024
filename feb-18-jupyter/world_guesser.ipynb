{
 "cells": [
  {
   "cell_type": "code",
   "execution_count": 1,
   "metadata": {},
   "outputs": [],
   "source": [
    "import csv\n",
    "word_list = []\n",
    "dates = []\n",
    "occurences = []\n",
    "with open('wordle.csv', newline='') as csvfile:\n",
    "    spamreader = csv.reader(csvfile, delimiter=' ', quotechar='|')\n",
    "    for row in spamreader:\n",
    "        word_list.append(row[0].split(\",\")[0])\n",
    "        dates.append(row[-1].split(\",\")[-1])"
   ]
  },
  {
   "cell_type": "code",
   "execution_count": null,
   "metadata": {},
   "outputs": [],
   "source": [
    "print(word_list)"
   ]
  },
  {
   "cell_type": "code",
   "execution_count": null,
   "metadata": {},
   "outputs": [],
   "source": [
    "# Pattern Finder\n",
    "import re\n",
    "matching_words = []\n",
    "pattern = r\"\\ba..le\\b\"\n",
    "pattern = re.compile(pattern)\n",
    "for word in word_list:\n",
    "    if pattern.fullmatch(word):\n",
    "        matching_words.append(word)\n",
    "matching_words"
   ]
  },
  {
   "cell_type": "code",
   "execution_count": null,
   "metadata": {},
   "outputs": [],
   "source": [
    "# Count number of words\n",
    "\n",
    "last_LE = len(matching_words)\n",
    "last_LE\n"
   ]
  },
  {
   "cell_type": "code",
   "execution_count": 28,
   "metadata": {},
   "outputs": [],
   "source": [
    "def find_l(pattern):\n",
    "    import re\n",
    "    yellow_Ls = []\n",
    "    matching_words1 = []\n",
    "    pattern = re.compile(pattern)\n",
    "    for word in word_list:\n",
    "        if pattern.fullmatch(word):\n",
    "            matching_words1.append(word)\n",
    "            yellow_Ls.append(matching_words1)\n",
    "    return matching_words1\n"
   ]
  },
  {
   "cell_type": "code",
   "execution_count": 30,
   "metadata": {},
   "outputs": [
    {
     "data": {
      "text/plain": [
       "['aglee', 'allee']"
      ]
     },
     "execution_count": 30,
     "metadata": {},
     "output_type": "execute_result"
    }
   ],
   "source": [
    "find_l(r\"\\ba..le\\b\")\n",
    "find_l(r\"\\bal..e\\b\")\n",
    "find_l(r\"\\ba.l.e\\b\")\n",
    "\n"
   ]
  }
 ],
 "metadata": {
  "kernelspec": {
   "display_name": "Python 3",
   "language": "python",
   "name": "python3"
  },
  "language_info": {
   "codemirror_mode": {
    "name": "ipython",
    "version": 3
   },
   "file_extension": ".py",
   "mimetype": "text/x-python",
   "name": "python",
   "nbconvert_exporter": "python",
   "pygments_lexer": "ipython3",
   "version": "3.10.13"
  }
 },
 "nbformat": 4,
 "nbformat_minor": 2
}
